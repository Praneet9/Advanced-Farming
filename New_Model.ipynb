{
  "nbformat": 4,
  "nbformat_minor": 0,
  "metadata": {
    "colab": {
      "name": "New_Model.ipynb",
      "version": "0.3.2",
      "provenance": [],
      "collapsed_sections": [],
      "include_colab_link": true
    },
    "kernelspec": {
      "name": "python3",
      "display_name": "Python 3"
    },
    "accelerator": "GPU"
  },
  "cells": [
    {
      "cell_type": "markdown",
      "metadata": {
        "id": "view-in-github",
        "colab_type": "text"
      },
      "source": [
        "<a href=\"https://colab.research.google.com/github/Praneet9/Advanced-Farming/blob/master/New_Model.ipynb\" target=\"_parent\"><img src=\"https://colab.research.google.com/assets/colab-badge.svg\" alt=\"Open In Colab\"/></a>"
      ]
    },
    {
      "metadata": {
        "id": "1nLABpv8kiCF",
        "colab_type": "code",
        "colab": {
          "base_uri": "https://localhost:8080/",
          "height": 125
        },
        "outputId": "9cb77d03-a7f5-427c-a9c0-0a6c66f6127f"
      },
      "cell_type": "code",
      "source": [
        "!git clone https://github.com/Praneet9/Plant_Monitor.git"
      ],
      "execution_count": 2,
      "outputs": [
        {
          "output_type": "stream",
          "text": [
            "Cloning into 'Plant_Monitor'...\n",
            "remote: Enumerating objects: 43, done.\u001b[K\n",
            "remote: Counting objects: 100% (43/43), done.\u001b[K\n",
            "remote: Compressing objects: 100% (33/33), done.\u001b[K\n",
            "remote: Total 83 (delta 6), reused 40 (delta 5), pack-reused 40\u001b[K\n",
            "Unpacking objects: 100% (83/83), done.\n"
          ],
          "name": "stdout"
        }
      ]
    },
    {
      "metadata": {
        "id": "p1JY5VndkpBX",
        "colab_type": "code",
        "colab": {
          "base_uri": "https://localhost:8080/",
          "height": 35
        },
        "outputId": "fc944267-82f6-4f76-aead-264c065a0e43"
      },
      "cell_type": "code",
      "source": [
        "cd Plant_Monitor/"
      ],
      "execution_count": 3,
      "outputs": [
        {
          "output_type": "stream",
          "text": [
            "/content/Plant_Monitor\n"
          ],
          "name": "stdout"
        }
      ]
    },
    {
      "metadata": {
        "id": "50wOo02pkq84",
        "colab_type": "code",
        "colab": {
          "base_uri": "https://localhost:8080/",
          "height": 35
        },
        "outputId": "2217247a-8bc0-44a1-c8d9-29358f058026"
      },
      "cell_type": "code",
      "source": [
        "cd Praneet/"
      ],
      "execution_count": 4,
      "outputs": [
        {
          "output_type": "stream",
          "text": [
            "/content/Plant_Monitor/Praneet\n"
          ],
          "name": "stdout"
        }
      ]
    },
    {
      "metadata": {
        "id": "5fCMx0wHks3a",
        "colab_type": "code",
        "colab": {
          "base_uri": "https://localhost:8080/",
          "height": 197
        },
        "outputId": "380de3f1-fd9b-4ea4-f0f8-16ea2619512c"
      },
      "cell_type": "code",
      "source": [
        "!ln -sf /opt/bin/nvidia-smi /usr/bin/nvidia-smi\n",
        "!pip install gputil\n",
        "!pip install psutil\n",
        "!pip install humanize"
      ],
      "execution_count": 5,
      "outputs": [
        {
          "output_type": "stream",
          "text": [
            "Collecting gputil\n",
            "  Downloading https://files.pythonhosted.org/packages/ed/0e/5c61eedde9f6c87713e89d794f01e378cfd9565847d4576fa627d758c554/GPUtil-1.4.0.tar.gz\n",
            "Building wheels for collected packages: gputil\n",
            "  Running setup.py bdist_wheel for gputil ... \u001b[?25l-\b \bdone\n",
            "\u001b[?25h  Stored in directory: /root/.cache/pip/wheels/3d/77/07/80562de4bb0786e5ea186911a2c831fdd0018bda69beab71fd\n",
            "Successfully built gputil\n",
            "Installing collected packages: gputil\n",
            "Successfully installed gputil-1.4.0\n",
            "Requirement already satisfied: psutil in /usr/local/lib/python3.6/dist-packages (5.4.8)\n",
            "Requirement already satisfied: humanize in /usr/local/lib/python3.6/dist-packages (0.5.1)\n"
          ],
          "name": "stdout"
        }
      ]
    },
    {
      "metadata": {
        "id": "FgJDDGpclL60",
        "colab_type": "code",
        "colab": {
          "base_uri": "https://localhost:8080/",
          "height": 53
        },
        "outputId": "d3206c85-02cf-4a5e-dd09-a9467714418f"
      },
      "cell_type": "code",
      "source": [
        "import psutil\n",
        "import humanize\n",
        "import os\n",
        "import GPUtil as GPU\n",
        "GPUs = GPU.getGPUs()\n",
        "# XXX: only one GPU on Colab and isn’t guaranteed\n",
        "gpu = GPUs[0]\n",
        "def printm():\n",
        " process = psutil.Process(os.getpid())\n",
        " print(\"Gen RAM Free: \" + humanize.naturalsize( psutil.virtual_memory().available ), \" | Proc size: \" + humanize.naturalsize( process.memory_info().rss))\n",
        " print(\"GPU RAM Free: {0:.0f}MB | Used: {1:.0f}MB | Util {2:3.0f}% | Total {3:.0f}MB\".format(gpu.memoryFree, gpu.memoryUsed, gpu.memoryUtil*100, gpu.memoryTotal))\n",
        "printm()"
      ],
      "execution_count": 6,
      "outputs": [
        {
          "output_type": "stream",
          "text": [
            "Gen RAM Free: 12.9 GB  | Proc size: 141.5 MB\n",
            "GPU RAM Free: 11441MB | Used: 0MB | Util   0% | Total 11441MB\n"
          ],
          "name": "stdout"
        }
      ]
    },
    {
      "metadata": {
        "id": "6S5_j4Q4nnu8",
        "colab_type": "code",
        "colab": {
          "base_uri": "https://localhost:8080/",
          "height": 35
        },
        "outputId": "0535b3e9-06f8-4fb2-c312-9565953998df"
      },
      "cell_type": "code",
      "source": [
        "cd Praneet/"
      ],
      "execution_count": 45,
      "outputs": [
        {
          "output_type": "stream",
          "text": [
            "/content/Plant_Monitor/Praneet\n"
          ],
          "name": "stdout"
        }
      ]
    },
    {
      "metadata": {
        "id": "XhwnvZo_pr5q",
        "colab_type": "code",
        "colab": {
          "base_uri": "https://localhost:8080/",
          "height": 35
        },
        "outputId": "7534ab70-42a8-48b1-c4f1-efbf16d09dc0"
      },
      "cell_type": "code",
      "source": [
        "import numpy as np\n",
        "import tensorflow as tf\n",
        "import cv2\n",
        "import os\n",
        "import matplotlib.pyplot as plt\n",
        "\n",
        "import keras\n",
        "\n",
        "from keras.models import Sequential\n",
        "from keras.layers import Dense, Flatten, Conv2D, MaxPooling2D, Dropout\n",
        "from keras.utils import to_categorical\n",
        "from keras.optimizers import SGD, RMSprop, adadelta, Adam\n",
        "\n",
        "from keras.preprocessing.image import ImageDataGenerator\n",
        "from keras.callbacks import ModelCheckpoint\n",
        "\n",
        "from sklearn.model_selection import train_test_split"
      ],
      "execution_count": 46,
      "outputs": [
        {
          "output_type": "stream",
          "text": [
            "Using TensorFlow backend.\n"
          ],
          "name": "stderr"
        }
      ]
    },
    {
      "metadata": {
        "id": "SdTul5Nqp4_G",
        "colab_type": "code",
        "colab": {
          "base_uri": "https://localhost:8080/",
          "height": 35
        },
        "outputId": "d8fb0178-5eae-4201-83f5-9482cff7c25f"
      },
      "cell_type": "code",
      "source": [
        "cd ../../PlantVillage-Dataset/"
      ],
      "execution_count": 47,
      "outputs": [
        {
          "output_type": "stream",
          "text": [
            "/content/PlantVillage-Dataset\n"
          ],
          "name": "stdout"
        }
      ]
    },
    {
      "metadata": {
        "id": "G_mUnfwtrFqM",
        "colab_type": "code",
        "colab": {
          "base_uri": "https://localhost:8080/",
          "height": 35
        },
        "outputId": "73ebe883-2925-4693-f492-3e3e2232f745"
      },
      "cell_type": "code",
      "source": [
        "ls"
      ],
      "execution_count": 48,
      "outputs": [
        {
          "output_type": "stream",
          "text": [
            "\u001b[0m\u001b[01;34mraw\u001b[0m/\n"
          ],
          "name": "stdout"
        }
      ]
    },
    {
      "metadata": {
        "id": "2-wT3l7NrGSH",
        "colab_type": "code",
        "colab": {
          "base_uri": "https://localhost:8080/",
          "height": 35
        },
        "outputId": "567b5ed5-4a4d-46ac-9f08-2782d6a25312"
      },
      "cell_type": "code",
      "source": [
        "ls"
      ],
      "execution_count": 49,
      "outputs": [
        {
          "output_type": "stream",
          "text": [
            "\u001b[0m\u001b[01;34mraw\u001b[0m/\n"
          ],
          "name": "stdout"
        }
      ]
    },
    {
      "metadata": {
        "id": "2rdBK-1KrNqR",
        "colab_type": "code",
        "colab": {
          "base_uri": "https://localhost:8080/",
          "height": 35
        },
        "outputId": "90ff9241-d169-40d8-8fba-4eed19d9b918"
      },
      "cell_type": "code",
      "source": [
        "cd raw/"
      ],
      "execution_count": 50,
      "outputs": [
        {
          "output_type": "stream",
          "text": [
            "/content/PlantVillage-Dataset/raw\n"
          ],
          "name": "stdout"
        }
      ]
    },
    {
      "metadata": {
        "id": "mt9IgS89rOwA",
        "colab_type": "code",
        "colab": {
          "base_uri": "https://localhost:8080/",
          "height": 35
        },
        "outputId": "6d6a6621-c3bf-4090-93ea-3a8993589ecd"
      },
      "cell_type": "code",
      "source": [
        "ls"
      ],
      "execution_count": 51,
      "outputs": [
        {
          "output_type": "stream",
          "text": [
            "\u001b[0m\u001b[01;34mcolor\u001b[0m/\n"
          ],
          "name": "stdout"
        }
      ]
    },
    {
      "metadata": {
        "id": "FghZAdZfrPlq",
        "colab_type": "code",
        "colab": {}
      },
      "cell_type": "code",
      "source": [
        "mv color ../../"
      ],
      "execution_count": 0,
      "outputs": []
    },
    {
      "metadata": {
        "id": "UaZsiTvWrZP1",
        "colab_type": "code",
        "colab": {}
      },
      "cell_type": "code",
      "source": [
        "ls"
      ],
      "execution_count": 0,
      "outputs": []
    },
    {
      "metadata": {
        "id": "kqyywYWaraOv",
        "colab_type": "code",
        "colab": {
          "base_uri": "https://localhost:8080/",
          "height": 35
        },
        "outputId": "4440d314-f8b2-465b-a735-16787f772d0c"
      },
      "cell_type": "code",
      "source": [
        "cd .."
      ],
      "execution_count": 54,
      "outputs": [
        {
          "output_type": "stream",
          "text": [
            "/content/PlantVillage-Dataset\n"
          ],
          "name": "stdout"
        }
      ]
    },
    {
      "metadata": {
        "id": "J0urKWsDrbf4",
        "colab_type": "code",
        "colab": {
          "base_uri": "https://localhost:8080/",
          "height": 35
        },
        "outputId": "7b70bbed-d368-4b8d-ae5e-faf1ac537d5a"
      },
      "cell_type": "code",
      "source": [
        "ls"
      ],
      "execution_count": 55,
      "outputs": [
        {
          "output_type": "stream",
          "text": [
            "\u001b[0m\u001b[01;34mraw\u001b[0m/\n"
          ],
          "name": "stdout"
        }
      ]
    },
    {
      "metadata": {
        "id": "q4u1J7Kcrb3e",
        "colab_type": "code",
        "colab": {
          "base_uri": "https://localhost:8080/",
          "height": 35
        },
        "outputId": "b0b917e5-7ee2-42b3-c6cb-a090a91e794d"
      },
      "cell_type": "code",
      "source": [
        "cd .."
      ],
      "execution_count": 56,
      "outputs": [
        {
          "output_type": "stream",
          "text": [
            "/content\n"
          ],
          "name": "stdout"
        }
      ]
    },
    {
      "metadata": {
        "id": "nhn3oGjwrdr3",
        "colab_type": "code",
        "colab": {
          "base_uri": "https://localhost:8080/",
          "height": 35
        },
        "outputId": "1f32ef30-4ead-4f79-e652-097e46be6467"
      },
      "cell_type": "code",
      "source": [
        "ls"
      ],
      "execution_count": 57,
      "outputs": [
        {
          "output_type": "stream",
          "text": [
            "\u001b[0m\u001b[01;34mcolor\u001b[0m/  \u001b[01;34mPlant_Monitor\u001b[0m/  \u001b[01;34mPlantVillage-Dataset\u001b[0m/  \u001b[01;34msample_data\u001b[0m/\n"
          ],
          "name": "stdout"
        }
      ]
    },
    {
      "metadata": {
        "id": "7VBOqx3rrecq",
        "colab_type": "code",
        "colab": {}
      },
      "cell_type": "code",
      "source": [
        "mv color/ dataset/"
      ],
      "execution_count": 0,
      "outputs": []
    },
    {
      "metadata": {
        "id": "ai8RB-lMriNr",
        "colab_type": "code",
        "colab": {
          "base_uri": "https://localhost:8080/",
          "height": 35
        },
        "outputId": "b415a6c1-b15d-4405-9dca-f090232f0d78"
      },
      "cell_type": "code",
      "source": [
        "ls"
      ],
      "execution_count": 59,
      "outputs": [
        {
          "output_type": "stream",
          "text": [
            "\u001b[0m\u001b[01;34mdataset\u001b[0m/  \u001b[01;34mPlant_Monitor\u001b[0m/  \u001b[01;34mPlantVillage-Dataset\u001b[0m/  \u001b[01;34msample_data\u001b[0m/\n"
          ],
          "name": "stdout"
        }
      ]
    },
    {
      "metadata": {
        "id": "0kdT5EnArjKM",
        "colab_type": "code",
        "colab": {
          "base_uri": "https://localhost:8080/",
          "height": 35
        },
        "outputId": "33363365-0f8b-4aa2-feaa-c02b12d29383"
      },
      "cell_type": "code",
      "source": [
        "cd dataset/"
      ],
      "execution_count": 60,
      "outputs": [
        {
          "output_type": "stream",
          "text": [
            "/content/dataset\n"
          ],
          "name": "stdout"
        }
      ]
    },
    {
      "metadata": {
        "id": "NyJjctKYrkyY",
        "colab_type": "code",
        "colab": {
          "base_uri": "https://localhost:8080/",
          "height": 35
        },
        "outputId": "39b83ded-8d9b-440b-ac60-917bfed279dd"
      },
      "cell_type": "code",
      "source": [
        "ls"
      ],
      "execution_count": 61,
      "outputs": [
        {
          "output_type": "stream",
          "text": [
            "\u001b[0m\u001b[01;34mtest\u001b[0m/  \u001b[01;34mtrain\u001b[0m/\n"
          ],
          "name": "stdout"
        }
      ]
    },
    {
      "metadata": {
        "id": "hqg6kKnIrln7",
        "colab_type": "code",
        "colab": {
          "base_uri": "https://localhost:8080/",
          "height": 35
        },
        "outputId": "7d81d7f3-c210-4955-8194-786e4cae8f5c"
      },
      "cell_type": "code",
      "source": [
        "cd train/"
      ],
      "execution_count": 62,
      "outputs": [
        {
          "output_type": "stream",
          "text": [
            "/content/dataset/train\n"
          ],
          "name": "stdout"
        }
      ]
    },
    {
      "metadata": {
        "id": "zMFLqLEDrptZ",
        "colab_type": "code",
        "colab": {
          "base_uri": "https://localhost:8080/",
          "height": 35
        },
        "outputId": "68985060-4753-4dd2-c52b-e4559d7931e2"
      },
      "cell_type": "code",
      "source": [
        "ls"
      ],
      "execution_count": 63,
      "outputs": [
        {
          "output_type": "stream",
          "text": [
            "\u001b[0m\u001b[01;34mTomato___Early_blight\u001b[0m/  \u001b[01;34mTomato___healthy\u001b[0m/  \u001b[01;34mTomato___Late_blight\u001b[0m/\n"
          ],
          "name": "stdout"
        }
      ]
    },
    {
      "metadata": {
        "id": "oBdtHPLarqTk",
        "colab_type": "code",
        "colab": {}
      },
      "cell_type": "code",
      "source": [
        "mv Tomato___Early_blight/ early_blight/"
      ],
      "execution_count": 0,
      "outputs": []
    },
    {
      "metadata": {
        "id": "XflAppHirv_A",
        "colab_type": "code",
        "colab": {}
      },
      "cell_type": "code",
      "source": [
        ""
      ],
      "execution_count": 0,
      "outputs": []
    },
    {
      "metadata": {
        "id": "IFiCWpbCr53E",
        "colab_type": "code",
        "colab": {
          "base_uri": "https://localhost:8080/",
          "height": 35
        },
        "outputId": "2fd8ec31-3dad-4ee7-8665-0bc2ff543ed7"
      },
      "cell_type": "code",
      "source": [
        "ls"
      ],
      "execution_count": 65,
      "outputs": [
        {
          "output_type": "stream",
          "text": [
            "\u001b[0m\u001b[01;34mearly_blight\u001b[0m/  \u001b[01;34mTomato___healthy\u001b[0m/  \u001b[01;34mTomato___Late_blight\u001b[0m/\n"
          ],
          "name": "stdout"
        }
      ]
    },
    {
      "metadata": {
        "id": "Q_cqGKEBr5_2",
        "colab_type": "code",
        "colab": {
          "base_uri": "https://localhost:8080/",
          "height": 35
        },
        "outputId": "11f7bb2f-b416-4e3b-a407-290cf8528215"
      },
      "cell_type": "code",
      "source": [
        "ls"
      ],
      "execution_count": 69,
      "outputs": [
        {
          "output_type": "stream",
          "text": [
            "\u001b[0m\u001b[01;34mdataset\u001b[0m/  \u001b[01;34msample_data\u001b[0m/\n"
          ],
          "name": "stdout"
        }
      ]
    },
    {
      "metadata": {
        "id": "EJSxQMIRr6LE",
        "colab_type": "code",
        "colab": {
          "base_uri": "https://localhost:8080/",
          "height": 233
        },
        "outputId": "b7215143-e2d0-46a1-d533-246bc044cb2c"
      },
      "cell_type": "code",
      "source": [
        "!git clone https://github.com/Praneet9/Plant_Monitor.git\n",
        "!git clone https://github.com/spMohanty/PlantVillage-Dataset.git"
      ],
      "execution_count": 71,
      "outputs": [
        {
          "output_type": "stream",
          "text": [
            "Cloning into 'Plant_Monitor'...\n",
            "remote: Enumerating objects: 47, done.\u001b[K\n",
            "remote: Counting objects:   2% (1/47)   \u001b[K\rremote: Counting objects:   4% (2/47)   \u001b[K\rremote: Counting objects:   6% (3/47)   \u001b[K\rremote: Counting objects:   8% (4/47)   \u001b[K\rremote: Counting objects:  10% (5/47)   \u001b[K\rremote: Counting objects:  12% (6/47)   \u001b[K\rremote: Counting objects:  14% (7/47)   \u001b[K\rremote: Counting objects:  17% (8/47)   \u001b[K\rremote: Counting objects:  19% (9/47)   \u001b[K\rremote: Counting objects:  21% (10/47)   \u001b[K\rremote: Counting objects:  23% (11/47)   \u001b[K\rremote: Counting objects:  25% (12/47)   \u001b[K\rremote: Counting objects:  27% (13/47)   \u001b[K\rremote: Counting objects:  29% (14/47)   \u001b[K\rremote: Counting objects:  31% (15/47)   \u001b[K\rremote: Counting objects:  34% (16/47)   \u001b[K\rremote: Counting objects:  36% (17/47)   \u001b[K\rremote: Counting objects:  38% (18/47)   \u001b[K\rremote: Counting objects:  40% (19/47)   \u001b[K\rremote: Counting objects:  42% (20/47)   \u001b[K\rremote: Counting objects:  44% (21/47)   \u001b[K\rremote: Counting objects:  46% (22/47)   \u001b[K\rremote: Counting objects:  48% (23/47)   \u001b[K\rremote: Counting objects:  51% (24/47)   \u001b[K\rremote: Counting objects:  53% (25/47)   \u001b[K\rremote: Counting objects:  55% (26/47)   \u001b[K\rremote: Counting objects:  57% (27/47)   \u001b[K\rremote: Counting objects:  59% (28/47)   \u001b[K\rremote: Counting objects:  61% (29/47)   \u001b[K\rremote: Counting objects:  63% (30/47)   \u001b[K\rremote: Counting objects:  65% (31/47)   \u001b[K\rremote: Counting objects:  68% (32/47)   \u001b[K\rremote: Counting objects:  70% (33/47)   \u001b[K\rremote: Counting objects:  72% (34/47)   \u001b[K\rremote: Counting objects:  74% (35/47)   \u001b[K\rremote: Counting objects:  76% (36/47)   \u001b[K\rremote: Counting objects:  78% (37/47)   \u001b[K\rremote: Counting objects:  80% (38/47)   \u001b[K\rremote: Counting objects:  82% (39/47)   \u001b[K\rremote: Counting objects:  85% (40/47)   \u001b[K\rremote: Counting objects:  87% (41/47)   \u001b[K\rremote: Counting objects:  89% (42/47)   \u001b[K\rremote: Counting objects:  91% (43/47)   \u001b[K\rremote: Counting objects:  93% (44/47)   \u001b[K\rremote: Counting objects:  95% (45/47)   \u001b[K\rremote: Counting objects:  97% (46/47)   \u001b[K\rremote: Counting objects: 100% (47/47)   \u001b[K\rremote: Counting objects: 100% (47/47), done.\u001b[K\n",
            "remote: Compressing objects: 100% (38/38), done.\u001b[K\n",
            "remote: Total 87 (delta 8), reused 38 (delta 4), pack-reused 40\u001b[K\n",
            "Unpacking objects: 100% (87/87), done.\n",
            "Cloning into 'PlantVillage-Dataset'...\n",
            "remote: Enumerating objects: 163229, done.\u001b[K\n",
            "remote: Total 163229 (delta 0), reused 0 (delta 0), pack-reused 163229\u001b[K\n",
            "Receiving objects: 100% (163229/163229), 2.00 GiB | 31.28 MiB/s, done.\n",
            "Resolving deltas: 100% (99/99), done.\n",
            "Checking out files: 100% (182401/182401), done.\n"
          ],
          "name": "stdout"
        }
      ]
    },
    {
      "metadata": {
        "id": "Ty9vTLV_vzdp",
        "colab_type": "code",
        "colab": {
          "base_uri": "https://localhost:8080/",
          "height": 197
        },
        "outputId": "4a79d0f8-243d-4706-a45f-7a5faf377a14"
      },
      "cell_type": "code",
      "source": [
        "!cd PlantVillage-Dataset\n",
        "!rm -r ^r* READ* ru* \n",
        "!cd raw/\n",
        "!rm -r ^c*\n",
        "!cd color/\n",
        "!mkdir train\n",
        "!mkdir test\n",
        "!mv Pot* test/\n",
        "!mv Tomato___Late_blight train/lateblight\n",
        "!mv Tomato___Early_blight train/earlyblight\n",
        "!mv Tomato___healthy train/healthy\n",
        "!mv train ../../\n",
        "!mv test ../../"
      ],
      "execution_count": 81,
      "outputs": [
        {
          "output_type": "stream",
          "text": [
            "rm: cannot remove '^r*': No such file or directory\n",
            "rm: cannot remove 'READ*': No such file or directory\n",
            "rm: cannot remove 'ru*': No such file or directory\n",
            "/bin/bash: line 0: cd: raw/: No such file or directory\n",
            "rm: cannot remove '^c*': No such file or directory\n",
            "/bin/bash: line 0: cd: color/: No such file or directory\n",
            "mv: cannot stat 'Pot*': No such file or directory\n",
            "mv: cannot stat 'Tomato___Late_blight': No such file or directory\n",
            "mv: cannot stat 'Tomato___Early_blight': No such file or directory\n",
            "mv: cannot stat 'Tomato___healthy': No such file or directory\n"
          ],
          "name": "stdout"
        }
      ]
    },
    {
      "metadata": {
        "id": "GXjvIijev81M",
        "colab_type": "code",
        "colab": {
          "base_uri": "https://localhost:8080/",
          "height": 35
        },
        "outputId": "9208f078-974d-474c-a60c-d74c7db01c7b"
      },
      "cell_type": "code",
      "source": [
        "!ls"
      ],
      "execution_count": 82,
      "outputs": [
        {
          "output_type": "stream",
          "text": [
            "dataset  Plant_Monitor\tPlantVillage-Dataset  sample_data\n"
          ],
          "name": "stdout"
        }
      ]
    },
    {
      "metadata": {
        "id": "v9Ml1w8cwXHX",
        "colab_type": "code",
        "colab": {
          "base_uri": "https://localhost:8080/",
          "height": 35
        },
        "outputId": "81d23d16-76a3-479a-ebcf-6d651b54809c"
      },
      "cell_type": "code",
      "source": [
        "cd PlantVillage-Dataset/"
      ],
      "execution_count": 83,
      "outputs": [
        {
          "output_type": "stream",
          "text": [
            "/content/PlantVillage-Dataset\n"
          ],
          "name": "stdout"
        }
      ]
    },
    {
      "metadata": {
        "id": "6xYnfK-6wdBM",
        "colab_type": "code",
        "colab": {
          "base_uri": "https://localhost:8080/",
          "height": 413
        },
        "outputId": "ccda49b0-b26f-4d46-8714-fcce15afdf2a"
      },
      "cell_type": "code",
      "source": [
        "ls"
      ],
      "execution_count": 84,
      "outputs": [
        {
          "output_type": "stream",
          "text": [
            "create_data_distribution.py        generate_mapstring.py\n",
            "create_db.py                       \u001b[0m\u001b[01;34mleaf_grouping\u001b[0m/\n",
            "\u001b[01;34mdata_distribution_for_SVM\u001b[0m/         leaf-map.json\n",
            "\u001b[01;32mgenerate_data_color-20-80.sh\u001b[0m*      \u001b[01;34mraw\u001b[0m/\n",
            "\u001b[01;32mgenerate_data_color-40-60.sh\u001b[0m*      README.md\n",
            "\u001b[01;32mgenerate_data_color-50-50.sh\u001b[0m*      \u001b[01;32mrun_all.sh\u001b[0m*\n",
            "\u001b[01;32mgenerate_data_color-60-40.sh\u001b[0m*      slurm-476480.out\n",
            "\u001b[01;32mgenerate_data_color-80-20.sh\u001b[0m*      slurm-476481.out\n",
            "generate_data_for_SVM.py           slurm-476482.out\n",
            "\u001b[01;32mgenerate_data_grayscale-20-80.sh\u001b[0m*  slurm-476483.out\n",
            "\u001b[01;32mgenerate_data_grayscale-40-60.sh\u001b[0m*  slurm-476484.out\n",
            "\u001b[01;32mgenerate_data_grayscale-50-50.sh\u001b[0m*  slurm-476485.out\n",
            "\u001b[01;32mgenerate_data_grayscale-60-40.sh\u001b[0m*  slurm-476486.out\n",
            "\u001b[01;32mgenerate_data_grayscale-80-20.sh\u001b[0m*  slurm-476487.out\n",
            "\u001b[01;32mgenerate_data_segmented-20-80.sh\u001b[0m*  slurm-476488.out\n",
            "\u001b[01;32mgenerate_data_segmented-40-60.sh\u001b[0m*  slurm-476489.out\n",
            "\u001b[01;32mgenerate_data_segmented-50-50.sh\u001b[0m*  slurm-476490.out\n",
            "\u001b[01;32mgenerate_data_segmented-60-40.sh\u001b[0m*  slurm-476491.out\n",
            "\u001b[01;32mgenerate_data_segmented-80-20.sh\u001b[0m*  slurm-476492.out\n",
            "\u001b[01;32m_generate_data.sh\u001b[0m*                 slurm-476493.out\n",
            "\u001b[01;34mgenerated_for_paper\u001b[0m/               slurm-476494.out\n",
            "\u001b[01;32mgenerate_lmdb.sh\u001b[0m*                  \u001b[01;34mutils\u001b[0m/\n"
          ],
          "name": "stdout"
        }
      ]
    },
    {
      "metadata": {
        "id": "B8So_5rtxJKs",
        "colab_type": "code",
        "colab": {}
      },
      "cell_type": "code",
      "source": [
        ""
      ],
      "execution_count": 0,
      "outputs": []
    }
  ]
}